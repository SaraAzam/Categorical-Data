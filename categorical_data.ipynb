{
  "nbformat": 4,
  "nbformat_minor": 0,
  "metadata": {
    "colab": {
      "name": "categorical data",
      "provenance": [],
      "collapsed_sections": []
    },
    "kernelspec": {
      "name": "python3",
      "display_name": "Python 3"
    }
  },
  "cells": [
    {
      "cell_type": "code",
      "metadata": {
        "colab": {
          "base_uri": "https://localhost:8080/"
        },
        "id": "IzkHd684Va2H",
        "outputId": "83d654c6-d3e2-42ec-943e-5f2524364d1f"
      },
      "source": [
        "import pandas as pd\n",
        "dataset=pd.read_csv('/content/Iris(1).csv')\n",
        "print(dataset.head)\n",
        "print(dataset[\"Name\"].value_counts())\n",
        "from sklearn.preprocessing import LabelEncoder #to assign codes in qaulitative data\n",
        "le=LabelEncoder()\n",
        "print(dataset.shape)\n",
        "dataset['N_Name']=le.fit_transform(dataset['Name'])#assign code in specific attribute\n",
        "print(dataset.shape)\n",
        "print(dataset.head())\n",
        "dataset=dataset.drop(['Name'],axis=1)#to drop specific col(1 means col and 0 means row)\n",
        "print('after droping:')\n"
      ],
      "execution_count": null,
      "outputs": [
        {
          "output_type": "stream",
          "text": [
            "<bound method NDFrame.head of      SepalLength  SepalWidth  PetalLength  PetalWidth            Name\n",
            "0            5.1         3.5          1.4         0.2     Iris-setosa\n",
            "1            4.9         3.0          1.4         0.2     Iris-setosa\n",
            "2            4.7         3.2          1.3         0.2     Iris-setosa\n",
            "3            4.6         3.1          1.5         0.2     Iris-setosa\n",
            "4            5.0         3.6          1.4         0.2     Iris-setosa\n",
            "..           ...         ...          ...         ...             ...\n",
            "145          6.7         3.0          5.2         2.3  Iris-virginica\n",
            "146          6.3         2.5          5.0         1.9  Iris-virginica\n",
            "147          6.5         3.0          5.2         2.0  Iris-virginica\n",
            "148          6.2         3.4          5.4         2.3  Iris-virginica\n",
            "149          5.9         3.0          5.1         1.8  Iris-virginica\n",
            "\n",
            "[150 rows x 5 columns]>\n",
            "Iris-virginica     50\n",
            "Iris-versicolor    50\n",
            "Iris-setosa        50\n",
            "Name: Name, dtype: int64\n",
            "(150, 5)\n",
            "(150, 6)\n",
            "   SepalLength  SepalWidth  PetalLength  PetalWidth         Name  N_Name\n",
            "0          5.1         3.5          1.4         0.2  Iris-setosa       0\n",
            "1          4.9         3.0          1.4         0.2  Iris-setosa       0\n",
            "2          4.7         3.2          1.3         0.2  Iris-setosa       0\n",
            "3          4.6         3.1          1.5         0.2  Iris-setosa       0\n",
            "4          5.0         3.6          1.4         0.2  Iris-setosa       0\n",
            "after droping:\n"
          ],
          "name": "stdout"
        }
      ]
    }
  ]
}